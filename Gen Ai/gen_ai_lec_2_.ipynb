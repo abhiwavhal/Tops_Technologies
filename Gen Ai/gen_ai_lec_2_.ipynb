{
  "nbformat": 4,
  "nbformat_minor": 0,
  "metadata": {
    "colab": {
      "provenance": []
    },
    "kernelspec": {
      "name": "python3",
      "display_name": "Python 3"
    },
    "language_info": {
      "name": "python"
    },
    "widgets": {
      "application/vnd.jupyter.widget-state+json": {
        "147a0741c6d94dc79e5f1400b38256fc": {
          "model_module": "@jupyter-widgets/controls",
          "model_name": "HBoxModel",
          "model_module_version": "1.5.0",
          "state": {
            "_dom_classes": [],
            "_model_module": "@jupyter-widgets/controls",
            "_model_module_version": "1.5.0",
            "_model_name": "HBoxModel",
            "_view_count": null,
            "_view_module": "@jupyter-widgets/controls",
            "_view_module_version": "1.5.0",
            "_view_name": "HBoxView",
            "box_style": "",
            "children": [
              "IPY_MODEL_813da7a4bd254f22b500e0462c3def79",
              "IPY_MODEL_8b321f6ca56d46ea9888eeaf75d55e6d",
              "IPY_MODEL_97cb2200a2c840b88cc0dd50b89afd1e"
            ],
            "layout": "IPY_MODEL_fd60164ab5094fd9b15b2158690aea89"
          }
        },
        "813da7a4bd254f22b500e0462c3def79": {
          "model_module": "@jupyter-widgets/controls",
          "model_name": "HTMLModel",
          "model_module_version": "1.5.0",
          "state": {
            "_dom_classes": [],
            "_model_module": "@jupyter-widgets/controls",
            "_model_module_version": "1.5.0",
            "_model_name": "HTMLModel",
            "_view_count": null,
            "_view_module": "@jupyter-widgets/controls",
            "_view_module_version": "1.5.0",
            "_view_name": "HTMLView",
            "description": "",
            "description_tooltip": null,
            "layout": "IPY_MODEL_de213546fe5a44d68cc61e3966cb7241",
            "placeholder": "​",
            "style": "IPY_MODEL_60e074d1efbb4aa29848e40718a4037e",
            "value": "Loading checkpoint shards: 100%"
          }
        },
        "8b321f6ca56d46ea9888eeaf75d55e6d": {
          "model_module": "@jupyter-widgets/controls",
          "model_name": "FloatProgressModel",
          "model_module_version": "1.5.0",
          "state": {
            "_dom_classes": [],
            "_model_module": "@jupyter-widgets/controls",
            "_model_module_version": "1.5.0",
            "_model_name": "FloatProgressModel",
            "_view_count": null,
            "_view_module": "@jupyter-widgets/controls",
            "_view_module_version": "1.5.0",
            "_view_name": "ProgressView",
            "bar_style": "success",
            "description": "",
            "description_tooltip": null,
            "layout": "IPY_MODEL_a77ce77cc9a44d469a8271f3d053828b",
            "max": 2,
            "min": 0,
            "orientation": "horizontal",
            "style": "IPY_MODEL_0e710243a5734e1bb8d5acb6c7f271d2",
            "value": 2
          }
        },
        "97cb2200a2c840b88cc0dd50b89afd1e": {
          "model_module": "@jupyter-widgets/controls",
          "model_name": "HTMLModel",
          "model_module_version": "1.5.0",
          "state": {
            "_dom_classes": [],
            "_model_module": "@jupyter-widgets/controls",
            "_model_module_version": "1.5.0",
            "_model_name": "HTMLModel",
            "_view_count": null,
            "_view_module": "@jupyter-widgets/controls",
            "_view_module_version": "1.5.0",
            "_view_name": "HTMLView",
            "description": "",
            "description_tooltip": null,
            "layout": "IPY_MODEL_347af6eba6bc46e5b0a3db12aa4b556e",
            "placeholder": "​",
            "style": "IPY_MODEL_aa222f0d6f1c4aeda8b5984227573510",
            "value": " 2/2 [00:40&lt;00:00, 18.29s/it]"
          }
        },
        "fd60164ab5094fd9b15b2158690aea89": {
          "model_module": "@jupyter-widgets/base",
          "model_name": "LayoutModel",
          "model_module_version": "1.2.0",
          "state": {
            "_model_module": "@jupyter-widgets/base",
            "_model_module_version": "1.2.0",
            "_model_name": "LayoutModel",
            "_view_count": null,
            "_view_module": "@jupyter-widgets/base",
            "_view_module_version": "1.2.0",
            "_view_name": "LayoutView",
            "align_content": null,
            "align_items": null,
            "align_self": null,
            "border": null,
            "bottom": null,
            "display": null,
            "flex": null,
            "flex_flow": null,
            "grid_area": null,
            "grid_auto_columns": null,
            "grid_auto_flow": null,
            "grid_auto_rows": null,
            "grid_column": null,
            "grid_gap": null,
            "grid_row": null,
            "grid_template_areas": null,
            "grid_template_columns": null,
            "grid_template_rows": null,
            "height": null,
            "justify_content": null,
            "justify_items": null,
            "left": null,
            "margin": null,
            "max_height": null,
            "max_width": null,
            "min_height": null,
            "min_width": null,
            "object_fit": null,
            "object_position": null,
            "order": null,
            "overflow": null,
            "overflow_x": null,
            "overflow_y": null,
            "padding": null,
            "right": null,
            "top": null,
            "visibility": null,
            "width": null
          }
        },
        "de213546fe5a44d68cc61e3966cb7241": {
          "model_module": "@jupyter-widgets/base",
          "model_name": "LayoutModel",
          "model_module_version": "1.2.0",
          "state": {
            "_model_module": "@jupyter-widgets/base",
            "_model_module_version": "1.2.0",
            "_model_name": "LayoutModel",
            "_view_count": null,
            "_view_module": "@jupyter-widgets/base",
            "_view_module_version": "1.2.0",
            "_view_name": "LayoutView",
            "align_content": null,
            "align_items": null,
            "align_self": null,
            "border": null,
            "bottom": null,
            "display": null,
            "flex": null,
            "flex_flow": null,
            "grid_area": null,
            "grid_auto_columns": null,
            "grid_auto_flow": null,
            "grid_auto_rows": null,
            "grid_column": null,
            "grid_gap": null,
            "grid_row": null,
            "grid_template_areas": null,
            "grid_template_columns": null,
            "grid_template_rows": null,
            "height": null,
            "justify_content": null,
            "justify_items": null,
            "left": null,
            "margin": null,
            "max_height": null,
            "max_width": null,
            "min_height": null,
            "min_width": null,
            "object_fit": null,
            "object_position": null,
            "order": null,
            "overflow": null,
            "overflow_x": null,
            "overflow_y": null,
            "padding": null,
            "right": null,
            "top": null,
            "visibility": null,
            "width": null
          }
        },
        "60e074d1efbb4aa29848e40718a4037e": {
          "model_module": "@jupyter-widgets/controls",
          "model_name": "DescriptionStyleModel",
          "model_module_version": "1.5.0",
          "state": {
            "_model_module": "@jupyter-widgets/controls",
            "_model_module_version": "1.5.0",
            "_model_name": "DescriptionStyleModel",
            "_view_count": null,
            "_view_module": "@jupyter-widgets/base",
            "_view_module_version": "1.2.0",
            "_view_name": "StyleView",
            "description_width": ""
          }
        },
        "a77ce77cc9a44d469a8271f3d053828b": {
          "model_module": "@jupyter-widgets/base",
          "model_name": "LayoutModel",
          "model_module_version": "1.2.0",
          "state": {
            "_model_module": "@jupyter-widgets/base",
            "_model_module_version": "1.2.0",
            "_model_name": "LayoutModel",
            "_view_count": null,
            "_view_module": "@jupyter-widgets/base",
            "_view_module_version": "1.2.0",
            "_view_name": "LayoutView",
            "align_content": null,
            "align_items": null,
            "align_self": null,
            "border": null,
            "bottom": null,
            "display": null,
            "flex": null,
            "flex_flow": null,
            "grid_area": null,
            "grid_auto_columns": null,
            "grid_auto_flow": null,
            "grid_auto_rows": null,
            "grid_column": null,
            "grid_gap": null,
            "grid_row": null,
            "grid_template_areas": null,
            "grid_template_columns": null,
            "grid_template_rows": null,
            "height": null,
            "justify_content": null,
            "justify_items": null,
            "left": null,
            "margin": null,
            "max_height": null,
            "max_width": null,
            "min_height": null,
            "min_width": null,
            "object_fit": null,
            "object_position": null,
            "order": null,
            "overflow": null,
            "overflow_x": null,
            "overflow_y": null,
            "padding": null,
            "right": null,
            "top": null,
            "visibility": null,
            "width": null
          }
        },
        "0e710243a5734e1bb8d5acb6c7f271d2": {
          "model_module": "@jupyter-widgets/controls",
          "model_name": "ProgressStyleModel",
          "model_module_version": "1.5.0",
          "state": {
            "_model_module": "@jupyter-widgets/controls",
            "_model_module_version": "1.5.0",
            "_model_name": "ProgressStyleModel",
            "_view_count": null,
            "_view_module": "@jupyter-widgets/base",
            "_view_module_version": "1.2.0",
            "_view_name": "StyleView",
            "bar_color": null,
            "description_width": ""
          }
        },
        "347af6eba6bc46e5b0a3db12aa4b556e": {
          "model_module": "@jupyter-widgets/base",
          "model_name": "LayoutModel",
          "model_module_version": "1.2.0",
          "state": {
            "_model_module": "@jupyter-widgets/base",
            "_model_module_version": "1.2.0",
            "_model_name": "LayoutModel",
            "_view_count": null,
            "_view_module": "@jupyter-widgets/base",
            "_view_module_version": "1.2.0",
            "_view_name": "LayoutView",
            "align_content": null,
            "align_items": null,
            "align_self": null,
            "border": null,
            "bottom": null,
            "display": null,
            "flex": null,
            "flex_flow": null,
            "grid_area": null,
            "grid_auto_columns": null,
            "grid_auto_flow": null,
            "grid_auto_rows": null,
            "grid_column": null,
            "grid_gap": null,
            "grid_row": null,
            "grid_template_areas": null,
            "grid_template_columns": null,
            "grid_template_rows": null,
            "height": null,
            "justify_content": null,
            "justify_items": null,
            "left": null,
            "margin": null,
            "max_height": null,
            "max_width": null,
            "min_height": null,
            "min_width": null,
            "object_fit": null,
            "object_position": null,
            "order": null,
            "overflow": null,
            "overflow_x": null,
            "overflow_y": null,
            "padding": null,
            "right": null,
            "top": null,
            "visibility": null,
            "width": null
          }
        },
        "aa222f0d6f1c4aeda8b5984227573510": {
          "model_module": "@jupyter-widgets/controls",
          "model_name": "DescriptionStyleModel",
          "model_module_version": "1.5.0",
          "state": {
            "_model_module": "@jupyter-widgets/controls",
            "_model_module_version": "1.5.0",
            "_model_name": "DescriptionStyleModel",
            "_view_count": null,
            "_view_module": "@jupyter-widgets/base",
            "_view_module_version": "1.2.0",
            "_view_name": "StyleView",
            "description_width": ""
          }
        },
        "cea869033801437a88c6f8ac24fecdda": {
          "model_module": "@jupyter-widgets/controls",
          "model_name": "HBoxModel",
          "model_module_version": "1.5.0",
          "state": {
            "_dom_classes": [],
            "_model_module": "@jupyter-widgets/controls",
            "_model_module_version": "1.5.0",
            "_model_name": "HBoxModel",
            "_view_count": null,
            "_view_module": "@jupyter-widgets/controls",
            "_view_module_version": "1.5.0",
            "_view_name": "HBoxView",
            "box_style": "",
            "children": [
              "IPY_MODEL_3867e04f38c8428481b4f69eff3111ec",
              "IPY_MODEL_1755a60837764dcfbb2bb71c51bad2f3",
              "IPY_MODEL_422fc376bf944d40ab24f7d8f5cc5a08"
            ],
            "layout": "IPY_MODEL_474788d76df9441c9c4a16d89f842f21"
          }
        },
        "3867e04f38c8428481b4f69eff3111ec": {
          "model_module": "@jupyter-widgets/controls",
          "model_name": "HTMLModel",
          "model_module_version": "1.5.0",
          "state": {
            "_dom_classes": [],
            "_model_module": "@jupyter-widgets/controls",
            "_model_module_version": "1.5.0",
            "_model_name": "HTMLModel",
            "_view_count": null,
            "_view_module": "@jupyter-widgets/controls",
            "_view_module_version": "1.5.0",
            "_view_name": "HTMLView",
            "description": "",
            "description_tooltip": null,
            "layout": "IPY_MODEL_ffe9f1d4fc174b738530f1cbd8f13da3",
            "placeholder": "​",
            "style": "IPY_MODEL_9964df5a1f9344a785e43cf8a04dc876",
            "value": "config.json: 100%"
          }
        },
        "1755a60837764dcfbb2bb71c51bad2f3": {
          "model_module": "@jupyter-widgets/controls",
          "model_name": "FloatProgressModel",
          "model_module_version": "1.5.0",
          "state": {
            "_dom_classes": [],
            "_model_module": "@jupyter-widgets/controls",
            "_model_module_version": "1.5.0",
            "_model_name": "FloatProgressModel",
            "_view_count": null,
            "_view_module": "@jupyter-widgets/controls",
            "_view_module_version": "1.5.0",
            "_view_name": "ProgressView",
            "bar_style": "success",
            "description": "",
            "description_tooltip": null,
            "layout": "IPY_MODEL_c5330a987d8f4617bc59520a89242b40",
            "max": 571,
            "min": 0,
            "orientation": "horizontal",
            "style": "IPY_MODEL_73cbe752a3b24bff82a6069957d6fd09",
            "value": 571
          }
        },
        "422fc376bf944d40ab24f7d8f5cc5a08": {
          "model_module": "@jupyter-widgets/controls",
          "model_name": "HTMLModel",
          "model_module_version": "1.5.0",
          "state": {
            "_dom_classes": [],
            "_model_module": "@jupyter-widgets/controls",
            "_model_module_version": "1.5.0",
            "_model_name": "HTMLModel",
            "_view_count": null,
            "_view_module": "@jupyter-widgets/controls",
            "_view_module_version": "1.5.0",
            "_view_name": "HTMLView",
            "description": "",
            "description_tooltip": null,
            "layout": "IPY_MODEL_3aba0b6067ad491e954ce5257198c318",
            "placeholder": "​",
            "style": "IPY_MODEL_06e442d0bb2c4330b887c870326f42af",
            "value": " 571/571 [00:00&lt;00:00, 32.1kB/s]"
          }
        },
        "474788d76df9441c9c4a16d89f842f21": {
          "model_module": "@jupyter-widgets/base",
          "model_name": "LayoutModel",
          "model_module_version": "1.2.0",
          "state": {
            "_model_module": "@jupyter-widgets/base",
            "_model_module_version": "1.2.0",
            "_model_name": "LayoutModel",
            "_view_count": null,
            "_view_module": "@jupyter-widgets/base",
            "_view_module_version": "1.2.0",
            "_view_name": "LayoutView",
            "align_content": null,
            "align_items": null,
            "align_self": null,
            "border": null,
            "bottom": null,
            "display": null,
            "flex": null,
            "flex_flow": null,
            "grid_area": null,
            "grid_auto_columns": null,
            "grid_auto_flow": null,
            "grid_auto_rows": null,
            "grid_column": null,
            "grid_gap": null,
            "grid_row": null,
            "grid_template_areas": null,
            "grid_template_columns": null,
            "grid_template_rows": null,
            "height": null,
            "justify_content": null,
            "justify_items": null,
            "left": null,
            "margin": null,
            "max_height": null,
            "max_width": null,
            "min_height": null,
            "min_width": null,
            "object_fit": null,
            "object_position": null,
            "order": null,
            "overflow": null,
            "overflow_x": null,
            "overflow_y": null,
            "padding": null,
            "right": null,
            "top": null,
            "visibility": null,
            "width": null
          }
        },
        "ffe9f1d4fc174b738530f1cbd8f13da3": {
          "model_module": "@jupyter-widgets/base",
          "model_name": "LayoutModel",
          "model_module_version": "1.2.0",
          "state": {
            "_model_module": "@jupyter-widgets/base",
            "_model_module_version": "1.2.0",
            "_model_name": "LayoutModel",
            "_view_count": null,
            "_view_module": "@jupyter-widgets/base",
            "_view_module_version": "1.2.0",
            "_view_name": "LayoutView",
            "align_content": null,
            "align_items": null,
            "align_self": null,
            "border": null,
            "bottom": null,
            "display": null,
            "flex": null,
            "flex_flow": null,
            "grid_area": null,
            "grid_auto_columns": null,
            "grid_auto_flow": null,
            "grid_auto_rows": null,
            "grid_column": null,
            "grid_gap": null,
            "grid_row": null,
            "grid_template_areas": null,
            "grid_template_columns": null,
            "grid_template_rows": null,
            "height": null,
            "justify_content": null,
            "justify_items": null,
            "left": null,
            "margin": null,
            "max_height": null,
            "max_width": null,
            "min_height": null,
            "min_width": null,
            "object_fit": null,
            "object_position": null,
            "order": null,
            "overflow": null,
            "overflow_x": null,
            "overflow_y": null,
            "padding": null,
            "right": null,
            "top": null,
            "visibility": null,
            "width": null
          }
        },
        "9964df5a1f9344a785e43cf8a04dc876": {
          "model_module": "@jupyter-widgets/controls",
          "model_name": "DescriptionStyleModel",
          "model_module_version": "1.5.0",
          "state": {
            "_model_module": "@jupyter-widgets/controls",
            "_model_module_version": "1.5.0",
            "_model_name": "DescriptionStyleModel",
            "_view_count": null,
            "_view_module": "@jupyter-widgets/base",
            "_view_module_version": "1.2.0",
            "_view_name": "StyleView",
            "description_width": ""
          }
        },
        "c5330a987d8f4617bc59520a89242b40": {
          "model_module": "@jupyter-widgets/base",
          "model_name": "LayoutModel",
          "model_module_version": "1.2.0",
          "state": {
            "_model_module": "@jupyter-widgets/base",
            "_model_module_version": "1.2.0",
            "_model_name": "LayoutModel",
            "_view_count": null,
            "_view_module": "@jupyter-widgets/base",
            "_view_module_version": "1.2.0",
            "_view_name": "LayoutView",
            "align_content": null,
            "align_items": null,
            "align_self": null,
            "border": null,
            "bottom": null,
            "display": null,
            "flex": null,
            "flex_flow": null,
            "grid_area": null,
            "grid_auto_columns": null,
            "grid_auto_flow": null,
            "grid_auto_rows": null,
            "grid_column": null,
            "grid_gap": null,
            "grid_row": null,
            "grid_template_areas": null,
            "grid_template_columns": null,
            "grid_template_rows": null,
            "height": null,
            "justify_content": null,
            "justify_items": null,
            "left": null,
            "margin": null,
            "max_height": null,
            "max_width": null,
            "min_height": null,
            "min_width": null,
            "object_fit": null,
            "object_position": null,
            "order": null,
            "overflow": null,
            "overflow_x": null,
            "overflow_y": null,
            "padding": null,
            "right": null,
            "top": null,
            "visibility": null,
            "width": null
          }
        },
        "73cbe752a3b24bff82a6069957d6fd09": {
          "model_module": "@jupyter-widgets/controls",
          "model_name": "ProgressStyleModel",
          "model_module_version": "1.5.0",
          "state": {
            "_model_module": "@jupyter-widgets/controls",
            "_model_module_version": "1.5.0",
            "_model_name": "ProgressStyleModel",
            "_view_count": null,
            "_view_module": "@jupyter-widgets/base",
            "_view_module_version": "1.2.0",
            "_view_name": "StyleView",
            "bar_color": null,
            "description_width": ""
          }
        },
        "3aba0b6067ad491e954ce5257198c318": {
          "model_module": "@jupyter-widgets/base",
          "model_name": "LayoutModel",
          "model_module_version": "1.2.0",
          "state": {
            "_model_module": "@jupyter-widgets/base",
            "_model_module_version": "1.2.0",
            "_model_name": "LayoutModel",
            "_view_count": null,
            "_view_module": "@jupyter-widgets/base",
            "_view_module_version": "1.2.0",
            "_view_name": "LayoutView",
            "align_content": null,
            "align_items": null,
            "align_self": null,
            "border": null,
            "bottom": null,
            "display": null,
            "flex": null,
            "flex_flow": null,
            "grid_area": null,
            "grid_auto_columns": null,
            "grid_auto_flow": null,
            "grid_auto_rows": null,
            "grid_column": null,
            "grid_gap": null,
            "grid_row": null,
            "grid_template_areas": null,
            "grid_template_columns": null,
            "grid_template_rows": null,
            "height": null,
            "justify_content": null,
            "justify_items": null,
            "left": null,
            "margin": null,
            "max_height": null,
            "max_width": null,
            "min_height": null,
            "min_width": null,
            "object_fit": null,
            "object_position": null,
            "order": null,
            "overflow": null,
            "overflow_x": null,
            "overflow_y": null,
            "padding": null,
            "right": null,
            "top": null,
            "visibility": null,
            "width": null
          }
        },
        "06e442d0bb2c4330b887c870326f42af": {
          "model_module": "@jupyter-widgets/controls",
          "model_name": "DescriptionStyleModel",
          "model_module_version": "1.5.0",
          "state": {
            "_model_module": "@jupyter-widgets/controls",
            "_model_module_version": "1.5.0",
            "_model_name": "DescriptionStyleModel",
            "_view_count": null,
            "_view_module": "@jupyter-widgets/base",
            "_view_module_version": "1.2.0",
            "_view_name": "StyleView",
            "description_width": ""
          }
        },
        "f91241ccb0a84d1385171d7f198247c6": {
          "model_module": "@jupyter-widgets/controls",
          "model_name": "HBoxModel",
          "model_module_version": "1.5.0",
          "state": {
            "_dom_classes": [],
            "_model_module": "@jupyter-widgets/controls",
            "_model_module_version": "1.5.0",
            "_model_name": "HBoxModel",
            "_view_count": null,
            "_view_module": "@jupyter-widgets/controls",
            "_view_module_version": "1.5.0",
            "_view_name": "HBoxView",
            "box_style": "",
            "children": [
              "IPY_MODEL_565b4c62ca7b4639bcf50a7049be7ecf",
              "IPY_MODEL_c58a82311a5a4153941b50b94cf85757",
              "IPY_MODEL_f4ca233d74dc4ed197ac95f2b4ac75f5"
            ],
            "layout": "IPY_MODEL_fe9118b4d26f4b20baceb4031b80ed5e"
          }
        },
        "565b4c62ca7b4639bcf50a7049be7ecf": {
          "model_module": "@jupyter-widgets/controls",
          "model_name": "HTMLModel",
          "model_module_version": "1.5.0",
          "state": {
            "_dom_classes": [],
            "_model_module": "@jupyter-widgets/controls",
            "_model_module_version": "1.5.0",
            "_model_name": "HTMLModel",
            "_view_count": null,
            "_view_module": "@jupyter-widgets/controls",
            "_view_module_version": "1.5.0",
            "_view_name": "HTMLView",
            "description": "",
            "description_tooltip": null,
            "layout": "IPY_MODEL_c33d930b8703464786b853b8e24078d9",
            "placeholder": "​",
            "style": "IPY_MODEL_0406c137c8db4b6d955813dba5847a7e",
            "value": "model.safetensors: 100%"
          }
        },
        "c58a82311a5a4153941b50b94cf85757": {
          "model_module": "@jupyter-widgets/controls",
          "model_name": "FloatProgressModel",
          "model_module_version": "1.5.0",
          "state": {
            "_dom_classes": [],
            "_model_module": "@jupyter-widgets/controls",
            "_model_module_version": "1.5.0",
            "_model_name": "FloatProgressModel",
            "_view_count": null,
            "_view_module": "@jupyter-widgets/controls",
            "_view_module_version": "1.5.0",
            "_view_name": "ProgressView",
            "bar_style": "success",
            "description": "",
            "description_tooltip": null,
            "layout": "IPY_MODEL_3e86ed25ce834540911813b0ade06c17",
            "max": 496254442,
            "min": 0,
            "orientation": "horizontal",
            "style": "IPY_MODEL_4964a608633549db83c7993e840ee03d",
            "value": 496254442
          }
        },
        "f4ca233d74dc4ed197ac95f2b4ac75f5": {
          "model_module": "@jupyter-widgets/controls",
          "model_name": "HTMLModel",
          "model_module_version": "1.5.0",
          "state": {
            "_dom_classes": [],
            "_model_module": "@jupyter-widgets/controls",
            "_model_module_version": "1.5.0",
            "_model_name": "HTMLModel",
            "_view_count": null,
            "_view_module": "@jupyter-widgets/controls",
            "_view_module_version": "1.5.0",
            "_view_name": "HTMLView",
            "description": "",
            "description_tooltip": null,
            "layout": "IPY_MODEL_74d93bb5c0e34d4d9065308b518b816e",
            "placeholder": "​",
            "style": "IPY_MODEL_105d6e88a8f145a3ada23ce2879f04d4",
            "value": " 496M/496M [00:08&lt;00:00, 72.1MB/s]"
          }
        },
        "fe9118b4d26f4b20baceb4031b80ed5e": {
          "model_module": "@jupyter-widgets/base",
          "model_name": "LayoutModel",
          "model_module_version": "1.2.0",
          "state": {
            "_model_module": "@jupyter-widgets/base",
            "_model_module_version": "1.2.0",
            "_model_name": "LayoutModel",
            "_view_count": null,
            "_view_module": "@jupyter-widgets/base",
            "_view_module_version": "1.2.0",
            "_view_name": "LayoutView",
            "align_content": null,
            "align_items": null,
            "align_self": null,
            "border": null,
            "bottom": null,
            "display": null,
            "flex": null,
            "flex_flow": null,
            "grid_area": null,
            "grid_auto_columns": null,
            "grid_auto_flow": null,
            "grid_auto_rows": null,
            "grid_column": null,
            "grid_gap": null,
            "grid_row": null,
            "grid_template_areas": null,
            "grid_template_columns": null,
            "grid_template_rows": null,
            "height": null,
            "justify_content": null,
            "justify_items": null,
            "left": null,
            "margin": null,
            "max_height": null,
            "max_width": null,
            "min_height": null,
            "min_width": null,
            "object_fit": null,
            "object_position": null,
            "order": null,
            "overflow": null,
            "overflow_x": null,
            "overflow_y": null,
            "padding": null,
            "right": null,
            "top": null,
            "visibility": null,
            "width": null
          }
        },
        "c33d930b8703464786b853b8e24078d9": {
          "model_module": "@jupyter-widgets/base",
          "model_name": "LayoutModel",
          "model_module_version": "1.2.0",
          "state": {
            "_model_module": "@jupyter-widgets/base",
            "_model_module_version": "1.2.0",
            "_model_name": "LayoutModel",
            "_view_count": null,
            "_view_module": "@jupyter-widgets/base",
            "_view_module_version": "1.2.0",
            "_view_name": "LayoutView",
            "align_content": null,
            "align_items": null,
            "align_self": null,
            "border": null,
            "bottom": null,
            "display": null,
            "flex": null,
            "flex_flow": null,
            "grid_area": null,
            "grid_auto_columns": null,
            "grid_auto_flow": null,
            "grid_auto_rows": null,
            "grid_column": null,
            "grid_gap": null,
            "grid_row": null,
            "grid_template_areas": null,
            "grid_template_columns": null,
            "grid_template_rows": null,
            "height": null,
            "justify_content": null,
            "justify_items": null,
            "left": null,
            "margin": null,
            "max_height": null,
            "max_width": null,
            "min_height": null,
            "min_width": null,
            "object_fit": null,
            "object_position": null,
            "order": null,
            "overflow": null,
            "overflow_x": null,
            "overflow_y": null,
            "padding": null,
            "right": null,
            "top": null,
            "visibility": null,
            "width": null
          }
        },
        "0406c137c8db4b6d955813dba5847a7e": {
          "model_module": "@jupyter-widgets/controls",
          "model_name": "DescriptionStyleModel",
          "model_module_version": "1.5.0",
          "state": {
            "_model_module": "@jupyter-widgets/controls",
            "_model_module_version": "1.5.0",
            "_model_name": "DescriptionStyleModel",
            "_view_count": null,
            "_view_module": "@jupyter-widgets/base",
            "_view_module_version": "1.2.0",
            "_view_name": "StyleView",
            "description_width": ""
          }
        },
        "3e86ed25ce834540911813b0ade06c17": {
          "model_module": "@jupyter-widgets/base",
          "model_name": "LayoutModel",
          "model_module_version": "1.2.0",
          "state": {
            "_model_module": "@jupyter-widgets/base",
            "_model_module_version": "1.2.0",
            "_model_name": "LayoutModel",
            "_view_count": null,
            "_view_module": "@jupyter-widgets/base",
            "_view_module_version": "1.2.0",
            "_view_name": "LayoutView",
            "align_content": null,
            "align_items": null,
            "align_self": null,
            "border": null,
            "bottom": null,
            "display": null,
            "flex": null,
            "flex_flow": null,
            "grid_area": null,
            "grid_auto_columns": null,
            "grid_auto_flow": null,
            "grid_auto_rows": null,
            "grid_column": null,
            "grid_gap": null,
            "grid_row": null,
            "grid_template_areas": null,
            "grid_template_columns": null,
            "grid_template_rows": null,
            "height": null,
            "justify_content": null,
            "justify_items": null,
            "left": null,
            "margin": null,
            "max_height": null,
            "max_width": null,
            "min_height": null,
            "min_width": null,
            "object_fit": null,
            "object_position": null,
            "order": null,
            "overflow": null,
            "overflow_x": null,
            "overflow_y": null,
            "padding": null,
            "right": null,
            "top": null,
            "visibility": null,
            "width": null
          }
        },
        "4964a608633549db83c7993e840ee03d": {
          "model_module": "@jupyter-widgets/controls",
          "model_name": "ProgressStyleModel",
          "model_module_version": "1.5.0",
          "state": {
            "_model_module": "@jupyter-widgets/controls",
            "_model_module_version": "1.5.0",
            "_model_name": "ProgressStyleModel",
            "_view_count": null,
            "_view_module": "@jupyter-widgets/base",
            "_view_module_version": "1.2.0",
            "_view_name": "StyleView",
            "bar_color": null,
            "description_width": ""
          }
        },
        "74d93bb5c0e34d4d9065308b518b816e": {
          "model_module": "@jupyter-widgets/base",
          "model_name": "LayoutModel",
          "model_module_version": "1.2.0",
          "state": {
            "_model_module": "@jupyter-widgets/base",
            "_model_module_version": "1.2.0",
            "_model_name": "LayoutModel",
            "_view_count": null,
            "_view_module": "@jupyter-widgets/base",
            "_view_module_version": "1.2.0",
            "_view_name": "LayoutView",
            "align_content": null,
            "align_items": null,
            "align_self": null,
            "border": null,
            "bottom": null,
            "display": null,
            "flex": null,
            "flex_flow": null,
            "grid_area": null,
            "grid_auto_columns": null,
            "grid_auto_flow": null,
            "grid_auto_rows": null,
            "grid_column": null,
            "grid_gap": null,
            "grid_row": null,
            "grid_template_areas": null,
            "grid_template_columns": null,
            "grid_template_rows": null,
            "height": null,
            "justify_content": null,
            "justify_items": null,
            "left": null,
            "margin": null,
            "max_height": null,
            "max_width": null,
            "min_height": null,
            "min_width": null,
            "object_fit": null,
            "object_position": null,
            "order": null,
            "overflow": null,
            "overflow_x": null,
            "overflow_y": null,
            "padding": null,
            "right": null,
            "top": null,
            "visibility": null,
            "width": null
          }
        },
        "105d6e88a8f145a3ada23ce2879f04d4": {
          "model_module": "@jupyter-widgets/controls",
          "model_name": "DescriptionStyleModel",
          "model_module_version": "1.5.0",
          "state": {
            "_model_module": "@jupyter-widgets/controls",
            "_model_module_version": "1.5.0",
            "_model_name": "DescriptionStyleModel",
            "_view_count": null,
            "_view_module": "@jupyter-widgets/base",
            "_view_module_version": "1.2.0",
            "_view_name": "StyleView",
            "description_width": ""
          }
        }
      }
    }
  },
  "cells": [
    {
      "cell_type": "code",
      "execution_count": null,
      "metadata": {
        "colab": {
          "base_uri": "https://localhost:8080/"
        },
        "id": "n89r4W3Iv327",
        "outputId": "ed7ff1fb-6a17-4d7c-969b-96542863596e"
      },
      "outputs": [
        {
          "output_type": "stream",
          "name": "stderr",
          "text": [
            "Exception ignored in: <function _xla_gc_callback at 0x7802ef27cc10>\n",
            "Traceback (most recent call last):\n",
            "  File \"/usr/local/lib/python3.10/dist-packages/jax/_src/lib/__init__.py\", line 98, in _xla_gc_callback\n",
            "    def _xla_gc_callback(*args):\n",
            "KeyboardInterrupt: \n",
            "No model was supplied, defaulted to sshleifer/distilbart-cnn-12-6 and revision a4f8f3e (https://huggingface.co/sshleifer/distilbart-cnn-12-6).\n",
            "Using a pipeline without specifying a model name and revision in production is not recommended.\n",
            "/usr/local/lib/python3.10/dist-packages/huggingface_hub/utils/_token.py:88: UserWarning: \n",
            "The secret `HF_TOKEN` does not exist in your Colab secrets.\n",
            "To authenticate with the Hugging Face Hub, create a token in your settings tab (https://huggingface.co/settings/tokens), set it as secret in your Google Colab and restart your session.\n",
            "You will be able to reuse this secret in all of your notebooks.\n",
            "Please note that authentication is recommended but still optional to access public models or datasets.\n",
            "  warnings.warn(\n"
          ]
        }
      ],
      "source": [
        "from transformers import pipeline\n",
        "\n",
        "summerizer = pipeline(task=\"summarization\")"
      ]
    },
    {
      "cell_type": "code",
      "source": [
        "a=\"The party or coalition that secures a majority of the seats in the Lok Sabha will form the next government. It is the world's – and history's – largest ever democratic exercise, with 969 million registered voters eligible to cast their vote using 5.5 million electronic voting machines over 44 days.\"\n",
        "summerizer(a,max_length=30)"
      ],
      "metadata": {
        "colab": {
          "base_uri": "https://localhost:8080/"
        },
        "id": "hDug1BU2wiK8",
        "outputId": "ef0dc0e0-1df0-4836-b39d-99a9da94a0ed"
      },
      "execution_count": null,
      "outputs": [
        {
          "output_type": "stream",
          "name": "stderr",
          "text": [
            "Your min_length=56 must be inferior than your max_length=30.\n",
            "/usr/local/lib/python3.10/dist-packages/transformers/generation/utils.py:1165: UserWarning: Unfeasible length constraints: `min_length` (56) is larger than the maximum possible length (30). Generation will stop at the defined maximum length. You should decrease the minimum length and/or increase the maximum length.\n",
            "  warnings.warn(\n"
          ]
        },
        {
          "output_type": "execute_result",
          "data": {
            "text/plain": [
              "[{'summary_text': ' The party or coalition that secures a majority of the seats in the Lok Sabha will form the next government . 969 million registered voters'}]"
            ]
          },
          "metadata": {},
          "execution_count": 2
        }
      ]
    },
    {
      "cell_type": "markdown",
      "source": [
        "![image.png](data:image/png;base64,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)"
      ],
      "metadata": {
        "id": "Fb4wccW-ysr8"
      }
    },
    {
      "cell_type": "code",
      "source": [
        "from transformers import pipeline\n",
        "model_id = \"microsoft/phi-2\"\n",
        "input=\"where is Aurangabad\"\n",
        "genrator = pipeline(task=\"text-generation\",model=model_id)"
      ],
      "metadata": {
        "colab": {
          "base_uri": "https://localhost:8080/",
          "height": 190,
          "referenced_widgets": [
            "147a0741c6d94dc79e5f1400b38256fc",
            "813da7a4bd254f22b500e0462c3def79",
            "8b321f6ca56d46ea9888eeaf75d55e6d",
            "97cb2200a2c840b88cc0dd50b89afd1e",
            "fd60164ab5094fd9b15b2158690aea89",
            "de213546fe5a44d68cc61e3966cb7241",
            "60e074d1efbb4aa29848e40718a4037e",
            "a77ce77cc9a44d469a8271f3d053828b",
            "0e710243a5734e1bb8d5acb6c7f271d2",
            "347af6eba6bc46e5b0a3db12aa4b556e",
            "aa222f0d6f1c4aeda8b5984227573510"
          ]
        },
        "id": "0DdpJazGyteX",
        "outputId": "6e473ac4-40cb-442c-ffc7-099529845e90"
      },
      "execution_count": null,
      "outputs": [
        {
          "output_type": "stream",
          "name": "stderr",
          "text": [
            "/usr/local/lib/python3.10/dist-packages/huggingface_hub/utils/_token.py:88: UserWarning: \n",
            "The secret `HF_TOKEN` does not exist in your Colab secrets.\n",
            "To authenticate with the Hugging Face Hub, create a token in your settings tab (https://huggingface.co/settings/tokens), set it as secret in your Google Colab and restart your session.\n",
            "You will be able to reuse this secret in all of your notebooks.\n",
            "Please note that authentication is recommended but still optional to access public models or datasets.\n",
            "  warnings.warn(\n"
          ]
        },
        {
          "output_type": "display_data",
          "data": {
            "text/plain": [
              "Loading checkpoint shards:   0%|          | 0/2 [00:00<?, ?it/s]"
            ],
            "application/vnd.jupyter.widget-view+json": {
              "version_major": 2,
              "version_minor": 0,
              "model_id": "147a0741c6d94dc79e5f1400b38256fc"
            }
          },
          "metadata": {}
        },
        {
          "output_type": "stream",
          "name": "stderr",
          "text": [
            "Special tokens have been added in the vocabulary, make sure the associated word embeddings are fine-tuned or trained.\n"
          ]
        }
      ]
    },
    {
      "cell_type": "code",
      "source": [
        "genrator(input)"
      ],
      "metadata": {
        "colab": {
          "base_uri": "https://localhost:8080/"
        },
        "id": "CLGguB01zQfK",
        "outputId": "ceebece1-b42a-4283-87d8-203db8d35147"
      },
      "execution_count": null,
      "outputs": [
        {
          "output_type": "stream",
          "name": "stderr",
          "text": [
            "Setting `pad_token_id` to `eos_token_id`:50256 for open-end generation.\n",
            "/usr/local/lib/python3.10/dist-packages/transformers/generation/utils.py:1141: UserWarning: Using the model-agnostic default `max_length` (=20) to control the generation length. We recommend setting `max_new_tokens` to control the maximum length of the generation.\n",
            "  warnings.warn(\n"
          ]
        },
        {
          "output_type": "execute_result",
          "data": {
            "text/plain": [
              "[{'generated_text': 'where is Aurangabad located?\\nAnswer: Aurangabad is located in the state of Maharashtra'}]"
            ]
          },
          "metadata": {},
          "execution_count": 2
        }
      ]
    },
    {
      "cell_type": "code",
      "source": [
        "genrator(\"Tell me Somthing About Data Science\")\n",
        "genrator(\"what are the output of data Science\")"
      ],
      "metadata": {
        "id": "gudqGTGv0rYM",
        "colab": {
          "base_uri": "https://localhost:8080/"
        },
        "outputId": "7bb97590-2043-48d5-e53e-cda34faa21a2"
      },
      "execution_count": null,
      "outputs": [
        {
          "output_type": "stream",
          "name": "stderr",
          "text": [
            "Setting `pad_token_id` to `eos_token_id`:50256 for open-end generation.\n",
            "Setting `pad_token_id` to `eos_token_id`:50256 for open-end generation.\n"
          ]
        },
        {
          "output_type": "execute_result",
          "data": {
            "text/plain": [
              "[{'generated_text': 'what are the output of data Science?\\nThe output of data science is a set of insights that'}]"
            ]
          },
          "metadata": {},
          "execution_count": 4
        }
      ]
    },
    {
      "cell_type": "code",
      "source": [
        "from transformers import pipeline\n",
        "\n",
        "question_answerer = pipeline(task=\"question-answering\", model=\"deepset/roberta-base-squad2\")\n",
        "preds = question_answerer(\n",
        "    question=\"What is Web devlopment\",\n",
        "    context=\"Web development is the work involved in developing a website for the Internet (World Wide Web) or an intranet (a private network).[1] Web development can range from developing a simple single static page of plain text to complex web applications, electronic businesses, and social network services. A more comprehensive list of tasks to which Web development commonly refers, may include Web engineering, Web design, Web content development, client liaison, client-side/server-side scripting, Web server and network security configuration, and e-commerce development.\",\n",
        ")\n",
        "\n",
        "preds"
      ],
      "metadata": {
        "colab": {
          "base_uri": "https://localhost:8080/",
          "height": 81,
          "referenced_widgets": [
            "cea869033801437a88c6f8ac24fecdda",
            "3867e04f38c8428481b4f69eff3111ec",
            "1755a60837764dcfbb2bb71c51bad2f3",
            "422fc376bf944d40ab24f7d8f5cc5a08",
            "474788d76df9441c9c4a16d89f842f21",
            "ffe9f1d4fc174b738530f1cbd8f13da3",
            "9964df5a1f9344a785e43cf8a04dc876",
            "c5330a987d8f4617bc59520a89242b40",
            "73cbe752a3b24bff82a6069957d6fd09",
            "3aba0b6067ad491e954ce5257198c318",
            "06e442d0bb2c4330b887c870326f42af",
            "f91241ccb0a84d1385171d7f198247c6",
            "565b4c62ca7b4639bcf50a7049be7ecf",
            "c58a82311a5a4153941b50b94cf85757",
            "f4ca233d74dc4ed197ac95f2b4ac75f5",
            "fe9118b4d26f4b20baceb4031b80ed5e",
            "c33d930b8703464786b853b8e24078d9",
            "0406c137c8db4b6d955813dba5847a7e",
            "3e86ed25ce834540911813b0ade06c17",
            "4964a608633549db83c7993e840ee03d",
            "74d93bb5c0e34d4d9065308b518b816e",
            "105d6e88a8f145a3ada23ce2879f04d4"
          ]
        },
        "id": "CMDwjzMo_wun",
        "outputId": "05a35b73-17ab-4bac-9b6a-60ffdcc360e7"
      },
      "execution_count": null,
      "outputs": [
        {
          "output_type": "display_data",
          "data": {
            "text/plain": [
              "config.json:   0%|          | 0.00/571 [00:00<?, ?B/s]"
            ],
            "application/vnd.jupyter.widget-view+json": {
              "version_major": 2,
              "version_minor": 0,
              "model_id": "cea869033801437a88c6f8ac24fecdda"
            }
          },
          "metadata": {}
        },
        {
          "output_type": "display_data",
          "data": {
            "text/plain": [
              "model.safetensors:   0%|          | 0.00/496M [00:00<?, ?B/s]"
            ],
            "application/vnd.jupyter.widget-view+json": {
              "version_major": 2,
              "version_minor": 0,
              "model_id": "f91241ccb0a84d1385171d7f198247c6"
            }
          },
          "metadata": {}
        }
      ]
    },
    {
      "cell_type": "code",
      "source": [
        "context = \"\"\"Data science is the study of data to extract meaningful insights for business.\n",
        "It is a multidisciplinary approach that combines principles and practices from the fields of mathematics,\n",
        "statistics, artificial intelligence, and computer engineering to analyze large amounts of data.\n",
        "This analysis helps data scientists to ask and answer questions like what happened, why it happened,\n",
        " what will happen, and what can be done with the results.\"\"\"\n",
        "\n",
        "preds = question_answerer(\n",
        "    question=\"What Data scinece do\",\n",
        "    context=context,\n",
        ")\n",
        "\n",
        "preds"
      ],
      "metadata": {
        "id": "YOOKbWaP_0_a"
      },
      "execution_count": null,
      "outputs": []
    },
    {
      "cell_type": "markdown",
      "source": [],
      "metadata": {
        "id": "Mawq9M4mB2Fx"
      }
    }
  ]
}